{
 "cells": [
  {
   "cell_type": "markdown",
   "metadata": {
    "papermill": {
     "duration": 0.018697,
     "end_time": "2021-03-24T18:42:21.912724",
     "exception": false,
     "start_time": "2021-03-24T18:42:21.894027",
     "status": "completed"
    },
    "tags": []
   },
   "source": [
    "## Stochastic(batch) Gradient Boosting"
   ]
  },
  {
   "cell_type": "code",
   "execution_count": 2,
   "metadata": {
    "execution": {
     "iopub.execute_input": "2021-03-24T18:42:21.984397Z",
     "iopub.status.busy": "2021-03-24T18:42:21.983484Z",
     "iopub.status.idle": "2021-03-24T18:42:22.867172Z",
     "shell.execute_reply": "2021-03-24T18:42:22.867703Z"
    },
    "papermill": {
     "duration": 0.904683,
     "end_time": "2021-03-24T18:42:22.868056",
     "exception": false,
     "start_time": "2021-03-24T18:42:21.963373",
     "status": "completed"
    },
    "tags": []
   },
   "outputs": [],
   "source": [
    "import numpy as np\n",
    "import pandas as pd\n",
    "import matplotlib.pyplot as plt\n",
    "import seaborn as sns\n",
    "import itertools\n",
    "import random"
   ]
  },
  {
   "cell_type": "code",
   "execution_count": 4,
   "metadata": {
    "execution": {
     "iopub.execute_input": "2021-03-24T18:42:22.906094Z",
     "iopub.status.busy": "2021-03-24T18:42:22.905155Z",
     "iopub.status.idle": "2021-03-24T18:42:22.986946Z",
     "shell.execute_reply": "2021-03-24T18:42:22.987397Z"
    },
    "papermill": {
     "duration": 0.102249,
     "end_time": "2021-03-24T18:42:22.987558",
     "exception": false,
     "start_time": "2021-03-24T18:42:22.885309",
     "status": "completed"
    },
    "tags": []
   },
   "outputs": [
    {
     "data": {
      "text/html": [
       "<div>\n",
       "<style scoped>\n",
       "    .dataframe tbody tr th:only-of-type {\n",
       "        vertical-align: middle;\n",
       "    }\n",
       "\n",
       "    .dataframe tbody tr th {\n",
       "        vertical-align: top;\n",
       "    }\n",
       "\n",
       "    .dataframe thead th {\n",
       "        text-align: right;\n",
       "    }\n",
       "</style>\n",
       "<table border=\"1\" class=\"dataframe\">\n",
       "  <thead>\n",
       "    <tr style=\"text-align: right;\">\n",
       "      <th></th>\n",
       "      <th>Id</th>\n",
       "      <th>age</th>\n",
       "      <th>years_of_experience</th>\n",
       "      <th>lesson_price</th>\n",
       "      <th>qualification</th>\n",
       "      <th>physics</th>\n",
       "      <th>chemistry</th>\n",
       "      <th>biology</th>\n",
       "      <th>english</th>\n",
       "      <th>geography</th>\n",
       "      <th>history</th>\n",
       "      <th>mean_exam_points</th>\n",
       "    </tr>\n",
       "  </thead>\n",
       "  <tbody>\n",
       "    <tr>\n",
       "      <th>0</th>\n",
       "      <td>0</td>\n",
       "      <td>40.0</td>\n",
       "      <td>0.0</td>\n",
       "      <td>1400.0</td>\n",
       "      <td>1.0</td>\n",
       "      <td>1.0</td>\n",
       "      <td>0.0</td>\n",
       "      <td>0.0</td>\n",
       "      <td>0.0</td>\n",
       "      <td>1.0</td>\n",
       "      <td>0.0</td>\n",
       "      <td>63.0</td>\n",
       "    </tr>\n",
       "    <tr>\n",
       "      <th>1</th>\n",
       "      <td>1</td>\n",
       "      <td>48.0</td>\n",
       "      <td>4.0</td>\n",
       "      <td>2850.0</td>\n",
       "      <td>3.0</td>\n",
       "      <td>1.0</td>\n",
       "      <td>0.0</td>\n",
       "      <td>0.0</td>\n",
       "      <td>0.0</td>\n",
       "      <td>0.0</td>\n",
       "      <td>0.0</td>\n",
       "      <td>86.0</td>\n",
       "    </tr>\n",
       "    <tr>\n",
       "      <th>2</th>\n",
       "      <td>2</td>\n",
       "      <td>39.0</td>\n",
       "      <td>0.0</td>\n",
       "      <td>1200.0</td>\n",
       "      <td>1.0</td>\n",
       "      <td>0.0</td>\n",
       "      <td>0.0</td>\n",
       "      <td>0.0</td>\n",
       "      <td>0.0</td>\n",
       "      <td>0.0</td>\n",
       "      <td>0.0</td>\n",
       "      <td>53.0</td>\n",
       "    </tr>\n",
       "    <tr>\n",
       "      <th>3</th>\n",
       "      <td>3</td>\n",
       "      <td>46.0</td>\n",
       "      <td>5.0</td>\n",
       "      <td>1400.0</td>\n",
       "      <td>1.0</td>\n",
       "      <td>0.0</td>\n",
       "      <td>0.0</td>\n",
       "      <td>0.0</td>\n",
       "      <td>0.0</td>\n",
       "      <td>0.0</td>\n",
       "      <td>0.0</td>\n",
       "      <td>56.0</td>\n",
       "    </tr>\n",
       "    <tr>\n",
       "      <th>4</th>\n",
       "      <td>4</td>\n",
       "      <td>43.0</td>\n",
       "      <td>1.0</td>\n",
       "      <td>1500.0</td>\n",
       "      <td>1.0</td>\n",
       "      <td>0.0</td>\n",
       "      <td>0.0</td>\n",
       "      <td>0.0</td>\n",
       "      <td>0.0</td>\n",
       "      <td>0.0</td>\n",
       "      <td>0.0</td>\n",
       "      <td>59.0</td>\n",
       "    </tr>\n",
       "  </tbody>\n",
       "</table>\n",
       "</div>"
      ],
      "text/plain": [
       "   Id   age  years_of_experience  lesson_price  qualification  physics  \\\n",
       "0   0  40.0                  0.0        1400.0            1.0      1.0   \n",
       "1   1  48.0                  4.0        2850.0            3.0      1.0   \n",
       "2   2  39.0                  0.0        1200.0            1.0      0.0   \n",
       "3   3  46.0                  5.0        1400.0            1.0      0.0   \n",
       "4   4  43.0                  1.0        1500.0            1.0      0.0   \n",
       "\n",
       "   chemistry  biology  english  geography  history  mean_exam_points  \n",
       "0        0.0      0.0      0.0        1.0      0.0              63.0  \n",
       "1        0.0      0.0      0.0        0.0      0.0              86.0  \n",
       "2        0.0      0.0      0.0        0.0      0.0              53.0  \n",
       "3        0.0      0.0      0.0        0.0      0.0              56.0  \n",
       "4        0.0      0.0      0.0        0.0      0.0              59.0  "
      ]
     },
     "execution_count": 4,
     "metadata": {},
     "output_type": "execute_result"
    }
   ],
   "source": [
    "train = pd.read_csv('../input/tutors-expected-math-exam-results/train.csv')\n",
    "test = pd.read_csv('../input/tutors-expected-math-exam-results/test.csv')\n",
    "train.head()"
   ]
  },
  {
   "cell_type": "code",
   "execution_count": 5,
   "metadata": {
    "execution": {
     "iopub.execute_input": "2021-03-24T18:42:23.031777Z",
     "iopub.status.busy": "2021-03-24T18:42:23.031047Z",
     "iopub.status.idle": "2021-03-24T18:42:23.074264Z",
     "shell.execute_reply": "2021-03-24T18:42:23.074686Z"
    },
    "papermill": {
     "duration": 0.069923,
     "end_time": "2021-03-24T18:42:23.074870",
     "exception": false,
     "start_time": "2021-03-24T18:42:23.004947",
     "status": "completed"
    },
    "tags": []
   },
   "outputs": [
    {
     "data": {
      "text/html": [
       "<div>\n",
       "<style scoped>\n",
       "    .dataframe tbody tr th:only-of-type {\n",
       "        vertical-align: middle;\n",
       "    }\n",
       "\n",
       "    .dataframe tbody tr th {\n",
       "        vertical-align: top;\n",
       "    }\n",
       "\n",
       "    .dataframe thead th {\n",
       "        text-align: right;\n",
       "    }\n",
       "</style>\n",
       "<table border=\"1\" class=\"dataframe\">\n",
       "  <thead>\n",
       "    <tr style=\"text-align: right;\">\n",
       "      <th></th>\n",
       "      <th>count</th>\n",
       "      <th>mean</th>\n",
       "      <th>std</th>\n",
       "      <th>min</th>\n",
       "      <th>25%</th>\n",
       "      <th>50%</th>\n",
       "      <th>75%</th>\n",
       "      <th>max</th>\n",
       "    </tr>\n",
       "  </thead>\n",
       "  <tbody>\n",
       "    <tr>\n",
       "      <th>Id</th>\n",
       "      <td>10000.0</td>\n",
       "      <td>4999.5000</td>\n",
       "      <td>2886.895680</td>\n",
       "      <td>0.0</td>\n",
       "      <td>2499.75</td>\n",
       "      <td>4999.5</td>\n",
       "      <td>7499.25</td>\n",
       "      <td>9999.0</td>\n",
       "    </tr>\n",
       "    <tr>\n",
       "      <th>age</th>\n",
       "      <td>10000.0</td>\n",
       "      <td>45.8780</td>\n",
       "      <td>8.043929</td>\n",
       "      <td>23.0</td>\n",
       "      <td>40.00</td>\n",
       "      <td>46.0</td>\n",
       "      <td>51.00</td>\n",
       "      <td>68.0</td>\n",
       "    </tr>\n",
       "    <tr>\n",
       "      <th>years_of_experience</th>\n",
       "      <td>10000.0</td>\n",
       "      <td>1.9868</td>\n",
       "      <td>1.772213</td>\n",
       "      <td>0.0</td>\n",
       "      <td>0.00</td>\n",
       "      <td>2.0</td>\n",
       "      <td>3.00</td>\n",
       "      <td>10.0</td>\n",
       "    </tr>\n",
       "    <tr>\n",
       "      <th>lesson_price</th>\n",
       "      <td>10000.0</td>\n",
       "      <td>1699.1050</td>\n",
       "      <td>524.886654</td>\n",
       "      <td>200.0</td>\n",
       "      <td>1300.00</td>\n",
       "      <td>1500.0</td>\n",
       "      <td>2150.00</td>\n",
       "      <td>3950.0</td>\n",
       "    </tr>\n",
       "    <tr>\n",
       "      <th>qualification</th>\n",
       "      <td>10000.0</td>\n",
       "      <td>1.7195</td>\n",
       "      <td>0.792264</td>\n",
       "      <td>1.0</td>\n",
       "      <td>1.00</td>\n",
       "      <td>2.0</td>\n",
       "      <td>2.00</td>\n",
       "      <td>4.0</td>\n",
       "    </tr>\n",
       "    <tr>\n",
       "      <th>physics</th>\n",
       "      <td>10000.0</td>\n",
       "      <td>0.3750</td>\n",
       "      <td>0.484147</td>\n",
       "      <td>0.0</td>\n",
       "      <td>0.00</td>\n",
       "      <td>0.0</td>\n",
       "      <td>1.00</td>\n",
       "      <td>1.0</td>\n",
       "    </tr>\n",
       "    <tr>\n",
       "      <th>chemistry</th>\n",
       "      <td>10000.0</td>\n",
       "      <td>0.1329</td>\n",
       "      <td>0.339484</td>\n",
       "      <td>0.0</td>\n",
       "      <td>0.00</td>\n",
       "      <td>0.0</td>\n",
       "      <td>0.00</td>\n",
       "      <td>1.0</td>\n",
       "    </tr>\n",
       "    <tr>\n",
       "      <th>biology</th>\n",
       "      <td>10000.0</td>\n",
       "      <td>0.1096</td>\n",
       "      <td>0.312406</td>\n",
       "      <td>0.0</td>\n",
       "      <td>0.00</td>\n",
       "      <td>0.0</td>\n",
       "      <td>0.00</td>\n",
       "      <td>1.0</td>\n",
       "    </tr>\n",
       "    <tr>\n",
       "      <th>english</th>\n",
       "      <td>10000.0</td>\n",
       "      <td>0.0537</td>\n",
       "      <td>0.225436</td>\n",
       "      <td>0.0</td>\n",
       "      <td>0.00</td>\n",
       "      <td>0.0</td>\n",
       "      <td>0.00</td>\n",
       "      <td>1.0</td>\n",
       "    </tr>\n",
       "    <tr>\n",
       "      <th>geography</th>\n",
       "      <td>10000.0</td>\n",
       "      <td>0.0321</td>\n",
       "      <td>0.176274</td>\n",
       "      <td>0.0</td>\n",
       "      <td>0.00</td>\n",
       "      <td>0.0</td>\n",
       "      <td>0.00</td>\n",
       "      <td>1.0</td>\n",
       "    </tr>\n",
       "    <tr>\n",
       "      <th>history</th>\n",
       "      <td>10000.0</td>\n",
       "      <td>0.0194</td>\n",
       "      <td>0.137933</td>\n",
       "      <td>0.0</td>\n",
       "      <td>0.00</td>\n",
       "      <td>0.0</td>\n",
       "      <td>0.00</td>\n",
       "      <td>1.0</td>\n",
       "    </tr>\n",
       "    <tr>\n",
       "      <th>mean_exam_points</th>\n",
       "      <td>10000.0</td>\n",
       "      <td>64.3408</td>\n",
       "      <td>13.536823</td>\n",
       "      <td>32.0</td>\n",
       "      <td>55.00</td>\n",
       "      <td>63.0</td>\n",
       "      <td>73.00</td>\n",
       "      <td>100.0</td>\n",
       "    </tr>\n",
       "  </tbody>\n",
       "</table>\n",
       "</div>"
      ],
      "text/plain": [
       "                       count       mean          std    min      25%     50%  \\\n",
       "Id                   10000.0  4999.5000  2886.895680    0.0  2499.75  4999.5   \n",
       "age                  10000.0    45.8780     8.043929   23.0    40.00    46.0   \n",
       "years_of_experience  10000.0     1.9868     1.772213    0.0     0.00     2.0   \n",
       "lesson_price         10000.0  1699.1050   524.886654  200.0  1300.00  1500.0   \n",
       "qualification        10000.0     1.7195     0.792264    1.0     1.00     2.0   \n",
       "physics              10000.0     0.3750     0.484147    0.0     0.00     0.0   \n",
       "chemistry            10000.0     0.1329     0.339484    0.0     0.00     0.0   \n",
       "biology              10000.0     0.1096     0.312406    0.0     0.00     0.0   \n",
       "english              10000.0     0.0537     0.225436    0.0     0.00     0.0   \n",
       "geography            10000.0     0.0321     0.176274    0.0     0.00     0.0   \n",
       "history              10000.0     0.0194     0.137933    0.0     0.00     0.0   \n",
       "mean_exam_points     10000.0    64.3408    13.536823   32.0    55.00    63.0   \n",
       "\n",
       "                         75%     max  \n",
       "Id                   7499.25  9999.0  \n",
       "age                    51.00    68.0  \n",
       "years_of_experience     3.00    10.0  \n",
       "lesson_price         2150.00  3950.0  \n",
       "qualification           2.00     4.0  \n",
       "physics                 1.00     1.0  \n",
       "chemistry               0.00     1.0  \n",
       "biology                 0.00     1.0  \n",
       "english                 0.00     1.0  \n",
       "geography               0.00     1.0  \n",
       "history                 0.00     1.0  \n",
       "mean_exam_points       73.00   100.0  "
      ]
     },
     "execution_count": 5,
     "metadata": {},
     "output_type": "execute_result"
    }
   ],
   "source": [
    "train.describe().T"
   ]
  },
  {
   "cell_type": "markdown",
   "metadata": {},
   "source": [
    "## Распределение признаков"
   ]
  },
  {
   "cell_type": "code",
   "execution_count": 6,
   "metadata": {
    "execution": {
     "iopub.execute_input": "2021-03-24T18:42:23.151367Z",
     "iopub.status.busy": "2021-03-24T18:42:23.150648Z",
     "iopub.status.idle": "2021-03-24T18:42:24.784273Z",
     "shell.execute_reply": "2021-03-24T18:42:24.784866Z"
    },
    "papermill": {
     "duration": 1.656674,
     "end_time": "2021-03-24T18:42:24.785036",
     "exception": false,
     "start_time": "2021-03-24T18:42:23.128362",
     "status": "completed"
    },
    "tags": []
   },
   "outputs": [
    {
     "data": {
      "image/png": "[encoded data removed]",
      "text/plain": [
       "<Figure size 864x1008 with 12 Axes>"
      ]
     },
     "metadata": {
      "needs_background": "light"
     },
     "output_type": "display_data"
    }
   ],
   "source": [
    "train.hist(figsize =(12,14),bins = 15, grid = True)\n",
    "plt.show()"
   ]
  },
  {
   "cell_type": "code",
   "execution_count": 7,
   "metadata": {
    "execution": {
     "iopub.execute_input": "2021-03-24T18:42:24.829670Z",
     "iopub.status.busy": "2021-03-24T18:42:24.828743Z",
     "iopub.status.idle": "2021-03-24T18:42:26.291506Z",
     "shell.execute_reply": "2021-03-24T18:42:26.292024Z"
    },
    "papermill": {
     "duration": 1.487002,
     "end_time": "2021-03-24T18:42:26.292207",
     "exception": false,
     "start_time": "2021-03-24T18:42:24.805205",
     "status": "completed"
    },
    "tags": []
   },
   "outputs": [
    {
     "data": {
      "image/png": "[encoded data removed]",
      "text/plain": [
       "<Figure size 864x1008 with 12 Axes>"
      ]
     },
     "metadata": {
      "needs_background": "light"
     },
     "output_type": "display_data"
    }
   ],
   "source": [
    "test.hist(figsize =(12,14),bins = 15, grid = True)\n",
    "plt.show()"
   ]
  },
  {
   "cell_type": "markdown",
   "metadata": {},
   "source": [
    " ## Матрица корреляций"
   ]
  },
  {
   "cell_type": "code",
   "execution_count": 9,
   "metadata": {},
   "outputs": [
    {
     "data": {
      "image/png": "[encoded data removed]",
      "text/plain": [
       "<Figure size 1080x720 with 2 Axes>"
      ]
     },
     "metadata": {
      "needs_background": "light"
     },
     "output_type": "display_data"
    }
   ],
   "source": [
    "plt.figure(figsize = (15,10))\n",
    "\n",
    "sns.set(font_scale=1.4)\n",
    "\n",
    "corr_matrix = train.corr()\n",
    "corr_matrix = np.round(corr_matrix, 2)\n",
    "corr_matrix[np.abs(corr_matrix) < 0.3] = 0\n",
    "\n",
    "sns.heatmap(corr_matrix, annot=True, linewidths=.5, cmap='coolwarm')\n",
    "\n",
    "plt.title('Correlation matrix')\n",
    "plt.show()"
   ]
  },
  {
   "cell_type": "markdown",
   "metadata": {
    "papermill": {
     "duration": 0.023408,
     "end_time": "2021-03-24T18:42:27.663155",
     "exception": false,
     "start_time": "2021-03-24T18:42:27.639747",
     "status": "completed"
    },
    "tags": []
   },
   "source": [
    "### Создание нового признака"
   ]
  },
  {
   "cell_type": "code",
   "execution_count": 7,
   "metadata": {
    "execution": {
     "iopub.execute_input": "2021-03-24T18:42:27.715478Z",
     "iopub.status.busy": "2021-03-24T18:42:27.714620Z",
     "iopub.status.idle": "2021-03-24T18:42:27.734670Z",
     "shell.execute_reply": "2021-03-24T18:42:27.735192Z"
    },
    "papermill": {
     "duration": 0.048887,
     "end_time": "2021-03-24T18:42:27.735368",
     "exception": false,
     "start_time": "2021-03-24T18:42:27.686481",
     "status": "completed"
    },
    "tags": []
   },
   "outputs": [],
   "source": [
    "train['qualification * years_of_experience'] = train['qualification'] * train['years_of_experience']\n",
    "test['qualification * years_of_experience'] = test['qualification'] * test['years_of_experience']\n",
    "\n",
    "temp = test.drop(columns='Id')"
   ]
  },
  {
   "cell_type": "code",
   "execution_count": 8,
   "metadata": {
    "execution": {
     "iopub.execute_input": "2021-03-24T18:42:27.786770Z",
     "iopub.status.busy": "2021-03-24T18:42:27.785785Z",
     "iopub.status.idle": "2021-03-24T18:42:27.794350Z",
     "shell.execute_reply": "2021-03-24T18:42:27.793882Z"
    },
    "papermill": {
     "duration": 0.03531,
     "end_time": "2021-03-24T18:42:27.794485",
     "exception": false,
     "start_time": "2021-03-24T18:42:27.759175",
     "status": "completed"
    },
    "tags": []
   },
   "outputs": [],
   "source": [
    "# Приведем данные к формату array\n",
    "# convert data to array\n",
    "features = temp.columns\n",
    "target = 'mean_exam_points'\n",
    "X = train[features].values\n",
    "y = train[target].values\n",
    "test_set = test[features].values"
   ]
  },
  {
   "cell_type": "markdown",
   "metadata": {
    "papermill": {
     "duration": 0.023358,
     "end_time": "2021-03-24T18:42:27.842102",
     "exception": false,
     "start_time": "2021-03-24T18:42:27.818744",
     "status": "completed"
    },
    "tags": []
   },
   "source": [
    "### PCA"
   ]
  },
  {
   "cell_type": "code",
   "execution_count": 9,
   "metadata": {
    "execution": {
     "iopub.execute_input": "2021-03-24T18:42:27.898763Z",
     "iopub.status.busy": "2021-03-24T18:42:27.898143Z",
     "iopub.status.idle": "2021-03-24T18:42:27.901666Z",
     "shell.execute_reply": "2021-03-24T18:42:27.901090Z"
    },
    "papermill": {
     "duration": 0.036027,
     "end_time": "2021-03-24T18:42:27.901801",
     "exception": false,
     "start_time": "2021-03-24T18:42:27.865774",
     "status": "completed"
    },
    "tags": []
   },
   "outputs": [],
   "source": [
    "class PCA():\n",
    "    def __init__(self, n_components):\n",
    "        self.n_components = n_components\n",
    "\n",
    "    def fit_transform(self, data):\n",
    "        data_ = data.astype(float)\n",
    "        cov_matrix = data_.T.dot(data_) # Матрица ковариаций\n",
    "        # Eigenvalues, eigenvectors / (Собственные значения, собственные вектора)\n",
    "        eig_values, eig_vectors = np.linalg.eig(cov_matrix)\n",
    "        # list of tuples (value, vector) / список кортежей (значение, вектор)\n",
    "        eig_pairs = [(np.abs(eig_values[i]), eig_vectors[:,i]) for i in range(len(eig_values))]\n",
    "        # sorting the list in descending order eigenvalues / сортируем список по убыванию eig_values\n",
    "        eig_pairs.sort(key=lambda x: x[0], reverse=True)\n",
    "\n",
    "        eig_sum = sum(eig_values)\n",
    "        var_exp = [(i / eig_sum) * 100 for i in sorted(eig_values, reverse=True)]\n",
    "        cum_var_exp = np.cumsum(var_exp)\n",
    "\n",
    "        w = np.hstack(([eig_pairs[i][1].reshape(data.shape[1], 1) for i in range(self.n_components)]))\n",
    "        data_pca = data_.dot(w)\n",
    "        return data_pca, print(f'Доля дисперсии, описываемая каждой компонентой \\n'\n",
    "        f'Proportion of variance described by each component \\n{var_exp}'),\\\n",
    "    print(f'Кумулятивная доля дисперсии \\n'\n",
    "    f'Cumulative proportion of variance \\n{cum_var_exp}')"
   ]
  },
  {
   "cell_type": "code",
   "execution_count": 10,
   "metadata": {
    "execution": {
     "iopub.execute_input": "2021-03-24T18:42:27.963687Z",
     "iopub.status.busy": "2021-03-24T18:42:27.955871Z",
     "iopub.status.idle": "2021-03-24T18:42:27.969702Z",
     "shell.execute_reply": "2021-03-24T18:42:27.969199Z"
    },
    "papermill": {
     "duration": 0.043692,
     "end_time": "2021-03-24T18:42:27.969860",
     "exception": false,
     "start_time": "2021-03-24T18:42:27.926168",
     "status": "completed"
    },
    "tags": []
   },
   "outputs": [
    {
     "name": "stdout",
     "output_type": "stream",
     "text": [
      "Доля дисперсии, описываемая каждой компонентой \n",
      "Proportion of variance described by each component \n",
      "[99.99989823183077, 9.40552857867475e-05, 7.712883450652337e-06]\n",
      "Кумулятивная доля дисперсии \n",
      "Cumulative proportion of variance \n",
      "[ 99.99989823  99.99999229 100.        ]\n"
     ]
    }
   ],
   "source": [
    "imp = ['years_of_experience','lesson_price','qualification']\n",
    "pca = PCA(n_components=1)\n",
    "train_components = pca.fit_transform(train[imp])"
   ]
  },
  {
   "cell_type": "code",
   "execution_count": 11,
   "metadata": {
    "execution": {
     "iopub.execute_input": "2021-03-24T18:42:28.022328Z",
     "iopub.status.busy": "2021-03-24T18:42:28.021638Z",
     "iopub.status.idle": "2021-03-24T18:42:28.027058Z",
     "shell.execute_reply": "2021-03-24T18:42:28.027547Z"
    },
    "papermill": {
     "duration": 0.033291,
     "end_time": "2021-03-24T18:42:28.027734",
     "exception": false,
     "start_time": "2021-03-24T18:42:27.994443",
     "status": "completed"
    },
    "tags": []
   },
   "outputs": [
    {
     "data": {
      "text/plain": [
       "array([[1399.99937786],\n",
       "       [2850.0042865 ],\n",
       "       [1199.99961356],\n",
       "       ...,\n",
       "       [1250.00069513],\n",
       "       [1100.00315289],\n",
       "       [1449.99931894]])"
      ]
     },
     "execution_count": 11,
     "metadata": {},
     "output_type": "execute_result"
    }
   ],
   "source": [
    "pca_1 = train_components[0][:].values\n",
    "pca_1"
   ]
  },
  {
   "cell_type": "code",
   "execution_count": 12,
   "metadata": {
    "execution": {
     "iopub.execute_input": "2021-03-24T18:42:28.081432Z",
     "iopub.status.busy": "2021-03-24T18:42:28.080568Z",
     "iopub.status.idle": "2021-03-24T18:42:28.085967Z",
     "shell.execute_reply": "2021-03-24T18:42:28.086397Z"
    },
    "papermill": {
     "duration": 0.033332,
     "end_time": "2021-03-24T18:42:28.086555",
     "exception": false,
     "start_time": "2021-03-24T18:42:28.053223",
     "status": "completed"
    },
    "tags": []
   },
   "outputs": [
    {
     "data": {
      "text/plain": [
       "array([[4.00e+01, 0.00e+00, 1.40e+03, ..., 1.00e+00, 0.00e+00, 0.00e+00],\n",
       "       [4.80e+01, 4.00e+00, 2.85e+03, ..., 0.00e+00, 0.00e+00, 1.20e+01],\n",
       "       [3.90e+01, 0.00e+00, 1.20e+03, ..., 0.00e+00, 0.00e+00, 0.00e+00],\n",
       "       ...,\n",
       "       [3.40e+01, 1.00e+00, 1.25e+03, ..., 0.00e+00, 0.00e+00, 1.00e+00],\n",
       "       [3.30e+01, 3.00e+00, 1.10e+03, ..., 0.00e+00, 0.00e+00, 3.00e+00],\n",
       "       [3.50e+01, 0.00e+00, 1.45e+03, ..., 0.00e+00, 0.00e+00, 0.00e+00]])"
      ]
     },
     "execution_count": 12,
     "metadata": {},
     "output_type": "execute_result"
    }
   ],
   "source": [
    "#X = np.hstack((X,pca_1))\n",
    "X"
   ]
  },
  {
   "cell_type": "code",
   "execution_count": 13,
   "metadata": {
    "execution": {
     "iopub.execute_input": "2021-03-24T18:42:28.140100Z",
     "iopub.status.busy": "2021-03-24T18:42:28.139162Z",
     "iopub.status.idle": "2021-03-24T18:42:28.150668Z",
     "shell.execute_reply": "2021-03-24T18:42:28.150206Z"
    },
    "papermill": {
     "duration": 0.039298,
     "end_time": "2021-03-24T18:42:28.150809",
     "exception": false,
     "start_time": "2021-03-24T18:42:28.111511",
     "status": "completed"
    },
    "tags": []
   },
   "outputs": [
    {
     "name": "stdout",
     "output_type": "stream",
     "text": [
      "Доля дисперсии, описываемая каждой компонентой \n",
      "Proportion of variance described by each component \n",
      "[99.99989607297034, 9.645848434026375e-05, 7.468545328482112e-06]\n",
      "Кумулятивная доля дисперсии \n",
      "Cumulative proportion of variance \n",
      "[ 99.99989607  99.99999253 100.        ]\n"
     ]
    },
    {
     "data": {
      "text/plain": [
       "array([[1050.00320024],\n",
       "       [1850.00329066],\n",
       "       [1550.00034805],\n",
       "       ...,\n",
       "       [1100.00540977],\n",
       "       [1750.00000558],\n",
       "       [2000.00538334]])"
      ]
     },
     "execution_count": 13,
     "metadata": {},
     "output_type": "execute_result"
    }
   ],
   "source": [
    "test_components = pca.fit_transform(test[imp])\n",
    "pca_1 = test_components[0][:].values\n",
    "pca_1"
   ]
  },
  {
   "cell_type": "code",
   "execution_count": 14,
   "metadata": {
    "execution": {
     "iopub.execute_input": "2021-03-24T18:42:28.208156Z",
     "iopub.status.busy": "2021-03-24T18:42:28.207473Z",
     "iopub.status.idle": "2021-03-24T18:42:28.210300Z",
     "shell.execute_reply": "2021-03-24T18:42:28.210727Z"
    },
    "papermill": {
     "duration": 0.033655,
     "end_time": "2021-03-24T18:42:28.210970",
     "exception": false,
     "start_time": "2021-03-24T18:42:28.177315",
     "status": "completed"
    },
    "tags": []
   },
   "outputs": [
    {
     "data": {
      "text/plain": [
       "array([[4.60e+01, 3.00e+00, 1.05e+03, ..., 0.00e+00, 0.00e+00, 3.00e+00],\n",
       "       [4.30e+01, 3.00e+00, 1.85e+03, ..., 0.00e+00, 0.00e+00, 6.00e+00],\n",
       "       [5.20e+01, 1.00e+00, 1.55e+03, ..., 0.00e+00, 0.00e+00, 1.00e+00],\n",
       "       ...,\n",
       "       [3.30e+01, 5.00e+00, 1.10e+03, ..., 0.00e+00, 0.00e+00, 5.00e+00],\n",
       "       [4.80e+01, 0.00e+00, 1.75e+03, ..., 0.00e+00, 0.00e+00, 0.00e+00],\n",
       "       [4.90e+01, 5.00e+00, 2.00e+03, ..., 0.00e+00, 0.00e+00, 1.00e+01]])"
      ]
     },
     "execution_count": 14,
     "metadata": {},
     "output_type": "execute_result"
    }
   ],
   "source": [
    "#test_set = np.hstack((test_set,pca_1))\n",
    "test_set"
   ]
  },
  {
   "cell_type": "markdown",
   "metadata": {
    "papermill": {
     "duration": 0.02594,
     "end_time": "2021-03-24T18:42:28.262996",
     "exception": false,
     "start_time": "2021-03-24T18:42:28.237056",
     "status": "completed"
    },
    "tags": []
   },
   "source": [
    "### Нормализация данных ( Standard scaler )"
   ]
  },
  {
   "cell_type": "code",
   "execution_count": 15,
   "metadata": {
    "execution": {
     "iopub.execute_input": "2021-03-24T18:42:28.317743Z",
     "iopub.status.busy": "2021-03-24T18:42:28.317145Z",
     "iopub.status.idle": "2021-03-24T18:42:28.321614Z",
     "shell.execute_reply": "2021-03-24T18:42:28.322067Z"
    },
    "papermill": {
     "duration": 0.033247,
     "end_time": "2021-03-24T18:42:28.322243",
     "exception": false,
     "start_time": "2021-03-24T18:42:28.288996",
     "status": "completed"
    },
    "tags": []
   },
   "outputs": [],
   "source": [
    "def normalin(data):\n",
    "    means = np.mean(data, axis=0)\n",
    "    stds = np.std(data, axis=0)\n",
    "    for i in range(data.shape[0]):\n",
    "        for j in range(data.shape[1]):\n",
    "            data[i][j] = (data[i][j] - means[j])/stds[j]\n",
    "    return data"
   ]
  },
  {
   "cell_type": "code",
   "execution_count": 16,
   "metadata": {
    "execution": {
     "iopub.execute_input": "2021-03-24T18:42:28.378889Z",
     "iopub.status.busy": "2021-03-24T18:42:28.378266Z",
     "iopub.status.idle": "2021-03-24T18:42:28.380853Z",
     "shell.execute_reply": "2021-03-24T18:42:28.381283Z"
    },
    "papermill": {
     "duration": 0.032362,
     "end_time": "2021-03-24T18:42:28.381462",
     "exception": false,
     "start_time": "2021-03-24T18:42:28.349100",
     "status": "completed"
    },
    "tags": []
   },
   "outputs": [],
   "source": [
    "#normalin(X)\n",
    "#normalin(test_set)"
   ]
  },
  {
   "cell_type": "markdown",
   "metadata": {
    "papermill": {
     "duration": 0.026249,
     "end_time": "2021-03-24T18:42:28.434681",
     "exception": false,
     "start_time": "2021-03-24T18:42:28.408432",
     "status": "completed"
    },
    "tags": []
   },
   "source": [
    "### RegressionTree for Stochastic Gradient Descent"
   ]
  },
  {
   "cell_type": "code",
   "execution_count": 17,
   "metadata": {
    "execution": {
     "iopub.execute_input": "2021-03-24T18:42:28.491628Z",
     "iopub.status.busy": "2021-03-24T18:42:28.490896Z",
     "iopub.status.idle": "2021-03-24T18:42:28.508723Z",
     "shell.execute_reply": "2021-03-24T18:42:28.509320Z"
    },
    "papermill": {
     "duration": 0.04825,
     "end_time": "2021-03-24T18:42:28.509522",
     "exception": false,
     "start_time": "2021-03-24T18:42:28.461272",
     "status": "completed"
    },
    "tags": []
   },
   "outputs": [],
   "source": [
    "class Node:\n",
    "\n",
    "    def __init__(self, index, t, true_branch, false_branch):\n",
    "         # index of the attribute to compare with the threshold in the node / индекс признака для сравнения с порогом в узле\n",
    "        self.index = index\n",
    "        self.t = t  # treshold\n",
    "        # branch satisfies condition in node / поддерево, удовлетворяющее условию в узле\n",
    "        self.true_branch = true_branch \n",
    "        self.false_branch = false_branch # not\n",
    "\n",
    "class Leaf:\n",
    "\n",
    "    def __init__(self, data, values):\n",
    "        self.data = data\n",
    "        self.values = values\n",
    "        self.prediction = self.predict()\n",
    "\n",
    "    def predict(self):\n",
    "        prediction = np.mean(self.values)\n",
    "        return prediction\n",
    "\n",
    "class RegressionTreeStG():\n",
    "\n",
    "    def __init__(self, max_depth = 50):\n",
    "        self.max_depth = max_depth\n",
    "        self.tree = None\n",
    "\n",
    "    # iform criterion /  критерий информативности\n",
    "    # In regression, the spread of values will be characterized by variance\n",
    "    # В случае регрессии разброс значений будет характеризоваться дисперсией\n",
    "    def inf_criterion(self, values):\n",
    "        return np.var(values)\n",
    "\n",
    "    @staticmethod\n",
    "    def get_subsample(len_sample):\n",
    "        # saving the feature indexes / будем сохранять не сами признаки, а их индексы\n",
    "        sample_indexes = [i for i in range(len_sample)]\n",
    "\n",
    "        len_subsample = int(np.sqrt(len_sample))\n",
    "        subsample = []\n",
    "\n",
    "        random.shuffle(sample_indexes)\n",
    "        for _ in range(len_subsample):\n",
    "            subsample.append(sample_indexes.pop())\n",
    "\n",
    "        return subsample\n",
    "\n",
    "    # Quality calculation function / Функция рассчета качества\n",
    "    def quality(self, left_labels, right_labels, current_dispersion):\n",
    "        # part that went to left subtree / доля выбоки, ушедшая в левое поддерево\n",
    "        p = float(left_labels.shape[0]) / (left_labels.shape[0] + right_labels.shape[0])\n",
    "        return current_dispersion - p * self.inf_criterion(left_labels) - (1 - p) * self.inf_criterion(right_labels)\n",
    "\n",
    "    # Splitting data function / Функция разбиение данных в узле\n",
    "    def split(self, data, values, index, t):\n",
    "\n",
    "        left = np.where(data[:, index] <= t)\n",
    "        right = np.where(data[:, index] > t)\n",
    "\n",
    "        true_data = data[left]\n",
    "        false_data = data[right]\n",
    "        true_values = values[left]\n",
    "        false_values = values[right]\n",
    "\n",
    "        return true_data, false_data, true_values, false_values\n",
    "\n",
    "    # Finding the best split / Функция нахождения наилучшего разбиения\n",
    "    def find_best_split(self, data, values):\n",
    "\n",
    "        # minimum number of objects in node / обозначим минимальное количество объектов в узле\n",
    "        min_leaf = 5\n",
    "        current_inf = self.inf_criterion(values)\n",
    "        best_quality = 0\n",
    "        best_t = None\n",
    "        best_index = None\n",
    "\n",
    "        n_features = data.shape[1]\n",
    "        subsample = self.get_subsample(n_features)\n",
    "\n",
    "        for index in subsample:\n",
    "            # check only unique values / проверяем только уникальные значения признака\n",
    "            t_values = np.unique([row[index] for row in data])\n",
    "\n",
    "            for t in t_values:\n",
    "                true_data, false_data, true_labels, false_labels = self.split(data, values, index, t)\n",
    "                # If there < 5 objects left in node, we skip node\n",
    "                #  Если в узле остается < 5 объектов - пропускаем узел\n",
    "                if len(true_data) < min_leaf or len(false_data) < min_leaf:\n",
    "                    continue\n",
    "\n",
    "                current_quality = self.quality(true_labels, false_labels, current_inf)\n",
    "                # selecting threshold with maximum quality\n",
    "                #  выбираем порог с максимальным приростом качества\n",
    "                if current_quality > best_quality:\n",
    "                    best_quality, best_t, best_index = current_quality, t, index\n",
    "\n",
    "        return best_quality, best_t, best_index\n",
    "\n",
    "    # building a tree / Функция построения дерева\n",
    "    def build_tree(self, data, values, current_deep, max_depth):\n",
    "\n",
    "        quality, t, index = self.find_best_split(data, values)\n",
    "        # Stop recursion if there is no quality gain\n",
    "        # Первый базовый случай (прекращаем рекурсию, если нет прироста качества)\n",
    "        if quality == 0:\n",
    "            return Leaf(data, values)\n",
    "        # Stop recursion if the tree depth is exceeded\n",
    "        # Второй базовый случай (прекращаем рекурсию, если превышена глубина дерева)\n",
    "        #(критерий считается достаточно грубым, но хорошо зарекомендовал себя в композициях деревьев)\n",
    "        if current_deep > max_depth:\n",
    "            return Leaf(data, values)\n",
    "\n",
    "        current_deep += 1\n",
    "\n",
    "        true_data, false_data, true_values, false_values = self.split(data, values, index, t)\n",
    "        # Building trees / Рекурсивно строим деревья\n",
    "        true_branch = self.build_tree(true_data, true_values, current_deep, max_depth)\n",
    "        false_branch = self.build_tree(false_data, false_values, current_deep, max_depth)\n",
    "\n",
    "        return Node(index, t, true_branch, false_branch)\n",
    "\n",
    "    # Predicting objects function\n",
    "    def predict_value(self, obj, node):\n",
    "\n",
    "        # If have reached the leaf - stop recursion\n",
    "        if isinstance(node, Leaf):\n",
    "            answer = node.prediction\n",
    "            return answer\n",
    "\n",
    "        if obj[node.index] <= node.t:\n",
    "            return self.predict_value(obj, node.true_branch)\n",
    "        else:\n",
    "            return self.predict_value(obj, node.false_branch)\n",
    "\n",
    "    def predict(self, data):\n",
    "\n",
    "        pred_values = []\n",
    "        for obj in data:\n",
    "            prediction = self.predict_value(obj, self.tree)\n",
    "            pred_values.append(prediction)\n",
    "        return pred_values\n",
    "\n",
    "    def fit(self, data, values):\n",
    "        self.tree = self.build_tree(data, values, 0, self.max_depth)"
   ]
  },
  {
   "cell_type": "markdown",
   "metadata": {
    "papermill": {
     "duration": 0.026218,
     "end_time": "2021-03-24T18:42:28.562646",
     "exception": false,
     "start_time": "2021-03-24T18:42:28.536428",
     "status": "completed"
    },
    "tags": []
   },
   "source": [
    "### Batch Gradient Descent"
   ]
  },
  {
   "cell_type": "code",
   "execution_count": 18,
   "metadata": {
    "execution": {
     "iopub.execute_input": "2021-03-24T18:42:28.619567Z",
     "iopub.status.busy": "2021-03-24T18:42:28.618849Z",
     "iopub.status.idle": "2021-03-24T18:42:28.629257Z",
     "shell.execute_reply": "2021-03-24T18:42:28.629712Z"
    },
    "papermill": {
     "duration": 0.04037,
     "end_time": "2021-03-24T18:42:28.629922",
     "exception": false,
     "start_time": "2021-03-24T18:42:28.589552",
     "status": "completed"
    },
    "tags": []
   },
   "outputs": [],
   "source": [
    "class StGradBoost:\n",
    "    \n",
    "    def __init__(self, max_depth, n_trees, alpha, coef, iter_num):\n",
    "        self.max_depth = max_depth\n",
    "        self.n_trees = n_trees\n",
    "        self.alpha = alpha\n",
    "        self.coef = coef\n",
    "        self.iter_num = iter_num\n",
    "        self.trees = []\n",
    "\n",
    "    def bias(self, y, z):\n",
    "        return 2*(y - z)\n",
    "\n",
    "\n",
    "    def get_bootstrap(self, X, Y, N):\n",
    "        n_samples = X.shape[0]\n",
    "        bootstrap = []\n",
    "\n",
    "        for i in range(N):\n",
    "            b_data = np.zeros(X.shape)\n",
    "            b_labels = np.zeros(Y.shape)\n",
    "\n",
    "            for j in range(n_samples):\n",
    "                sample_index = random.randint(0, n_samples-1)\n",
    "                b_data[j] = X[sample_index]\n",
    "                b_labels[j] = Y[sample_index]\n",
    "            bootstrap.append((b_data, b_labels))\n",
    "\n",
    "        return bootstrap\n",
    "\n",
    "    def fit(self, X, Y):\n",
    "        trees = []\n",
    "        bootstrap = self.get_bootstrap(X, Y, self.n_trees)\n",
    "        for i in range(self.n_trees):\n",
    "            tree = RegressionTreeStG(max_depth=self.max_depth)\n",
    "            X_temp = bootstrap[i][0]\n",
    "            y_temp = bootstrap[i][1]\n",
    "\n",
    "            if len(trees) == 0:\n",
    "                tree.fit(X_temp, y_temp)\n",
    "\n",
    "            else:\n",
    "                # Получим ответы на текущей композиции\n",
    "                # Responses to the current composition\n",
    "                values = self.predict(X_temp)\n",
    "                # Начиная со второго обучаем алгоритмы на сдвиг\n",
    "                # train algorithms for the shift\n",
    "                tree.fit(X_temp, self.bias(y_temp, values))\n",
    "\n",
    "            self.trees.append(tree)\n",
    "        return self.trees\n",
    "\n",
    "    def predict(self, X):\n",
    "        return np.array([sum([self.alpha * coef * alg.predict([x])[0] for alg,\\\n",
    "                        coef in zip(self.trees, self.coef)]) for x in X])"
   ]
  },
  {
   "cell_type": "code",
   "execution_count": 19,
   "metadata": {
    "execution": {
     "iopub.execute_input": "2021-03-24T18:42:28.686427Z",
     "iopub.status.busy": "2021-03-24T18:42:28.685780Z",
     "iopub.status.idle": "2021-03-24T18:42:28.690046Z",
     "shell.execute_reply": "2021-03-24T18:42:28.690477Z"
    },
    "papermill": {
     "duration": 0.034142,
     "end_time": "2021-03-24T18:42:28.690648",
     "exception": false,
     "start_time": "2021-03-24T18:42:28.656506",
     "status": "completed"
    },
    "tags": []
   },
   "outputs": [],
   "source": [
    "# R2_score\n",
    "def r2_score(y, y_real):\n",
    "    ss_total=np.sum((y_real-np.mean(y_real))**2)\n",
    "    ss_res=np.sum((y_real-y)**2)\n",
    "    return 1-ss_res/ss_total\n",
    "\n",
    "# MSE\n",
    "def mean_squared_error(y_real, prediction):\n",
    "    return (sum((y_real - prediction)**2)) / len(y_real)"
   ]
  },
  {
   "cell_type": "code",
   "execution_count": 20,
   "metadata": {
    "execution": {
     "iopub.execute_input": "2021-03-24T18:42:28.748040Z",
     "iopub.status.busy": "2021-03-24T18:42:28.747287Z",
     "iopub.status.idle": "2021-03-24T18:42:28.752145Z",
     "shell.execute_reply": "2021-03-24T18:42:28.752573Z"
    },
    "papermill": {
     "duration": 0.035017,
     "end_time": "2021-03-24T18:42:28.752766",
     "exception": false,
     "start_time": "2021-03-24T18:42:28.717749",
     "status": "completed"
    },
    "tags": []
   },
   "outputs": [],
   "source": [
    "# train_test_split\n",
    "def tts(X, y, test_size, random_state):\n",
    "    np.random.seed(random_state)\n",
    "    \n",
    "    train_test_cut = int(len(X) * (1 - test_size))\n",
    "    \n",
    "    shuffle_index = np.random.permutation(X.shape[0])\n",
    "    X_shuffled, y_shuffled = X[shuffle_index], y[shuffle_index]\n",
    "    \n",
    "    X_train, X_test, y_train, y_test = \\\n",
    "    X_shuffled[:train_test_cut], \\\n",
    "    X_shuffled[train_test_cut:], \\\n",
    "    y_shuffled[:train_test_cut], \\\n",
    "    y_shuffled[train_test_cut:]\n",
    "    \n",
    "    return X_train, X_test, y_train, y_test"
   ]
  },
  {
   "cell_type": "code",
   "execution_count": 21,
   "metadata": {
    "execution": {
     "iopub.execute_input": "2021-03-24T18:42:28.809266Z",
     "iopub.status.busy": "2021-03-24T18:42:28.808592Z",
     "iopub.status.idle": "2021-03-24T18:42:28.814455Z",
     "shell.execute_reply": "2021-03-24T18:42:28.814853Z"
    },
    "papermill": {
     "duration": 0.035501,
     "end_time": "2021-03-24T18:42:28.815032",
     "exception": false,
     "start_time": "2021-03-24T18:42:28.779531",
     "status": "completed"
    },
    "tags": []
   },
   "outputs": [
    {
     "data": {
      "text/plain": [
       "((7000, 11), (3000, 11), (7000,), (3000,))"
      ]
     },
     "execution_count": 21,
     "metadata": {},
     "output_type": "execute_result"
    }
   ],
   "source": [
    "X_train, X_test, y_train, y_test = tts(X,y,test_size = 0.3, random_state = 42)\n",
    "X_train.shape, X_test.shape, y_train.shape, y_test.shape"
   ]
  },
  {
   "cell_type": "code",
   "execution_count": 22,
   "metadata": {
    "execution": {
     "iopub.execute_input": "2021-03-24T18:42:28.871734Z",
     "iopub.status.busy": "2021-03-24T18:42:28.871126Z",
     "iopub.status.idle": "2021-03-24T18:42:28.874182Z",
     "shell.execute_reply": "2021-03-24T18:42:28.874569Z"
    },
    "papermill": {
     "duration": 0.032986,
     "end_time": "2021-03-24T18:42:28.874733",
     "exception": false,
     "start_time": "2021-03-24T18:42:28.841747",
     "status": "completed"
    },
    "tags": []
   },
   "outputs": [],
   "source": [
    "# примем коэффициенты равными 1\n",
    "# take coefficients equal to 1\n",
    "n_trees = 10\n",
    "coefs = [1] * n_trees"
   ]
  },
  {
   "cell_type": "code",
   "execution_count": 23,
   "metadata": {
    "execution": {
     "iopub.execute_input": "2021-03-24T18:42:28.931573Z",
     "iopub.status.busy": "2021-03-24T18:42:28.930958Z",
     "iopub.status.idle": "2021-03-24T18:42:28.934798Z",
     "shell.execute_reply": "2021-03-24T18:42:28.935304Z"
    },
    "papermill": {
     "duration": 0.033885,
     "end_time": "2021-03-24T18:42:28.935464",
     "exception": false,
     "start_time": "2021-03-24T18:42:28.901579",
     "status": "completed"
    },
    "tags": []
   },
   "outputs": [],
   "source": [
    "# make model\n",
    "model = StGradBoost(max_depth=16, n_trees=n_trees, alpha=0.1, coef = coefs, iter_num = 1500)"
   ]
  },
  {
   "cell_type": "code",
   "execution_count": 24,
   "metadata": {
    "execution": {
     "iopub.execute_input": "2021-03-24T18:42:28.994473Z",
     "iopub.status.busy": "2021-03-24T18:42:28.993854Z",
     "iopub.status.idle": "2021-03-24T18:42:34.057888Z",
     "shell.execute_reply": "2021-03-24T18:42:34.057371Z"
    },
    "papermill": {
     "duration": 5.095007,
     "end_time": "2021-03-24T18:42:34.058037",
     "exception": false,
     "start_time": "2021-03-24T18:42:28.963030",
     "status": "completed"
    },
    "tags": []
   },
   "outputs": [
    {
     "data": {
      "text/plain": [
       "[<__main__.RegressionTreeStG at 0x7f6c1c1be250>,\n",
       " <__main__.RegressionTreeStG at 0x7f6c1c1b1d90>,\n",
       " <__main__.RegressionTreeStG at 0x7f6c1bcc69d0>,\n",
       " <__main__.RegressionTreeStG at 0x7f6c1c682910>,\n",
       " <__main__.RegressionTreeStG at 0x7f6c1b5f8490>,\n",
       " <__main__.RegressionTreeStG at 0x7f6c1b5cd550>,\n",
       " <__main__.RegressionTreeStG at 0x7f6c1b90bdd0>,\n",
       " <__main__.RegressionTreeStG at 0x7f6c1b6315d0>,\n",
       " <__main__.RegressionTreeStG at 0x7f6c1bd5e290>,\n",
       " <__main__.RegressionTreeStG at 0x7f6c1b5cd590>]"
      ]
     },
     "execution_count": 24,
     "metadata": {},
     "output_type": "execute_result"
    }
   ],
   "source": [
    "# fit model on train set\n",
    "model.fit(X_train,y_train)"
   ]
  },
  {
   "cell_type": "code",
   "execution_count": 25,
   "metadata": {
    "execution": {
     "iopub.execute_input": "2021-03-24T18:42:34.133648Z",
     "iopub.status.busy": "2021-03-24T18:42:34.128321Z",
     "iopub.status.idle": "2021-03-24T18:42:34.622963Z",
     "shell.execute_reply": "2021-03-24T18:42:34.622432Z"
    },
    "papermill": {
     "duration": 0.537409,
     "end_time": "2021-03-24T18:42:34.623102",
     "exception": false,
     "start_time": "2021-03-24T18:42:34.085693",
     "status": "completed"
    },
    "tags": []
   },
   "outputs": [
    {
     "data": {
      "text/plain": [
       "0.8132266108610215"
      ]
     },
     "execution_count": 25,
     "metadata": {},
     "output_type": "execute_result"
    }
   ],
   "source": [
    "y_train_pred = model.predict(X_train)\n",
    "r2_score(y_train_pred, y_train)"
   ]
  },
  {
   "cell_type": "code",
   "execution_count": 26,
   "metadata": {
    "execution": {
     "iopub.execute_input": "2021-03-24T18:42:34.712637Z",
     "iopub.status.busy": "2021-03-24T18:42:34.702311Z",
     "iopub.status.idle": "2021-03-24T18:42:34.905714Z",
     "shell.execute_reply": "2021-03-24T18:42:34.905169Z"
    },
    "papermill": {
     "duration": 0.25494,
     "end_time": "2021-03-24T18:42:34.905877",
     "exception": false,
     "start_time": "2021-03-24T18:42:34.650937",
     "status": "completed"
    },
    "tags": []
   },
   "outputs": [
    {
     "data": {
      "text/plain": [
       "0.7680403068780618"
      ]
     },
     "execution_count": 26,
     "metadata": {},
     "output_type": "execute_result"
    }
   ],
   "source": [
    "y_test_pred = model.predict(X_test)\n",
    "r2_score(y_test_pred, y_test)"
   ]
  },
  {
   "cell_type": "code",
   "execution_count": 27,
   "metadata": {
    "execution": {
     "iopub.execute_input": "2021-03-24T18:42:34.968523Z",
     "iopub.status.busy": "2021-03-24T18:42:34.967075Z",
     "iopub.status.idle": "2021-03-24T18:42:42.012837Z",
     "shell.execute_reply": "2021-03-24T18:42:42.012323Z"
    },
    "papermill": {
     "duration": 7.078251,
     "end_time": "2021-03-24T18:42:42.012986",
     "exception": false,
     "start_time": "2021-03-24T18:42:34.934735",
     "status": "completed"
    },
    "tags": []
   },
   "outputs": [
    {
     "data": {
      "text/plain": [
       "[<__main__.RegressionTreeStG at 0x7f6c1c1be250>,\n",
       " <__main__.RegressionTreeStG at 0x7f6c1c1b1d90>,\n",
       " <__main__.RegressionTreeStG at 0x7f6c1bcc69d0>,\n",
       " <__main__.RegressionTreeStG at 0x7f6c1c682910>,\n",
       " <__main__.RegressionTreeStG at 0x7f6c1b5f8490>,\n",
       " <__main__.RegressionTreeStG at 0x7f6c1b5cd550>,\n",
       " <__main__.RegressionTreeStG at 0x7f6c1b90bdd0>,\n",
       " <__main__.RegressionTreeStG at 0x7f6c1b6315d0>,\n",
       " <__main__.RegressionTreeStG at 0x7f6c1bd5e290>,\n",
       " <__main__.RegressionTreeStG at 0x7f6c1b5cd590>,\n",
       " <__main__.RegressionTreeStG at 0x7f6c1c1be910>,\n",
       " <__main__.RegressionTreeStG at 0x7f6c1b949710>,\n",
       " <__main__.RegressionTreeStG at 0x7f6c1bdbe1d0>,\n",
       " <__main__.RegressionTreeStG at 0x7f6c1b7a1b10>,\n",
       " <__main__.RegressionTreeStG at 0x7f6c1bc88e90>,\n",
       " <__main__.RegressionTreeStG at 0x7f6c1c30fd50>,\n",
       " <__main__.RegressionTreeStG at 0x7f6c1c440d10>,\n",
       " <__main__.RegressionTreeStG at 0x7f6c1b88de10>,\n",
       " <__main__.RegressionTreeStG at 0x7f6c1c2a90d0>,\n",
       " <__main__.RegressionTreeStG at 0x7f6c1b6d80d0>]"
      ]
     },
     "execution_count": 27,
     "metadata": {},
     "output_type": "execute_result"
    }
   ],
   "source": [
    "# train model on all set\n",
    "model.fit(X,y)"
   ]
  },
  {
   "cell_type": "code",
   "execution_count": 28,
   "metadata": {
    "execution": {
     "iopub.execute_input": "2021-03-24T18:42:42.098695Z",
     "iopub.status.busy": "2021-03-24T18:42:42.093661Z",
     "iopub.status.idle": "2021-03-24T18:42:42.801527Z",
     "shell.execute_reply": "2021-03-24T18:42:42.800979Z"
    },
    "papermill": {
     "duration": 0.760081,
     "end_time": "2021-03-24T18:42:42.801666",
     "exception": false,
     "start_time": "2021-03-24T18:42:42.041585",
     "status": "completed"
    },
    "tags": []
   },
   "outputs": [],
   "source": [
    "test_pred = model.predict(test_set)"
   ]
  },
  {
   "cell_type": "code",
   "execution_count": 29,
   "metadata": {
    "execution": {
     "iopub.execute_input": "2021-03-24T18:42:42.862269Z",
     "iopub.status.busy": "2021-03-24T18:42:42.861346Z",
     "iopub.status.idle": "2021-03-24T18:42:42.875095Z",
     "shell.execute_reply": "2021-03-24T18:42:42.875539Z"
    },
    "papermill": {
     "duration": 0.045363,
     "end_time": "2021-03-24T18:42:42.875702",
     "exception": false,
     "start_time": "2021-03-24T18:42:42.830339",
     "status": "completed"
    },
    "tags": []
   },
   "outputs": [
    {
     "data": {
      "text/html": [
       "<div>\n",
       "<style scoped>\n",
       "    .dataframe tbody tr th:only-of-type {\n",
       "        vertical-align: middle;\n",
       "    }\n",
       "\n",
       "    .dataframe tbody tr th {\n",
       "        vertical-align: top;\n",
       "    }\n",
       "\n",
       "    .dataframe thead th {\n",
       "        text-align: right;\n",
       "    }\n",
       "</style>\n",
       "<table border=\"1\" class=\"dataframe\">\n",
       "  <thead>\n",
       "    <tr style=\"text-align: right;\">\n",
       "      <th></th>\n",
       "      <th>Id</th>\n",
       "      <th>mean_exam_points</th>\n",
       "    </tr>\n",
       "  </thead>\n",
       "  <tbody>\n",
       "    <tr>\n",
       "      <th>0</th>\n",
       "      <td>10000</td>\n",
       "      <td>54.003088</td>\n",
       "    </tr>\n",
       "    <tr>\n",
       "      <th>1</th>\n",
       "      <td>10001</td>\n",
       "      <td>63.419190</td>\n",
       "    </tr>\n",
       "    <tr>\n",
       "      <th>2</th>\n",
       "      <td>10002</td>\n",
       "      <td>47.373134</td>\n",
       "    </tr>\n",
       "    <tr>\n",
       "      <th>3</th>\n",
       "      <td>10003</td>\n",
       "      <td>89.774396</td>\n",
       "    </tr>\n",
       "    <tr>\n",
       "      <th>4</th>\n",
       "      <td>10004</td>\n",
       "      <td>88.567201</td>\n",
       "    </tr>\n",
       "    <tr>\n",
       "      <th>...</th>\n",
       "      <td>...</td>\n",
       "      <td>...</td>\n",
       "    </tr>\n",
       "    <tr>\n",
       "      <th>9995</th>\n",
       "      <td>19995</td>\n",
       "      <td>41.529376</td>\n",
       "    </tr>\n",
       "    <tr>\n",
       "      <th>9996</th>\n",
       "      <td>19996</td>\n",
       "      <td>79.652288</td>\n",
       "    </tr>\n",
       "    <tr>\n",
       "      <th>9997</th>\n",
       "      <td>19997</td>\n",
       "      <td>55.509925</td>\n",
       "    </tr>\n",
       "    <tr>\n",
       "      <th>9998</th>\n",
       "      <td>19998</td>\n",
       "      <td>65.523730</td>\n",
       "    </tr>\n",
       "    <tr>\n",
       "      <th>9999</th>\n",
       "      <td>19999</td>\n",
       "      <td>66.392953</td>\n",
       "    </tr>\n",
       "  </tbody>\n",
       "</table>\n",
       "<p>10000 rows × 2 columns</p>\n",
       "</div>"
      ],
      "text/plain": [
       "         Id  mean_exam_points\n",
       "0     10000         54.003088\n",
       "1     10001         63.419190\n",
       "2     10002         47.373134\n",
       "3     10003         89.774396\n",
       "4     10004         88.567201\n",
       "...     ...               ...\n",
       "9995  19995         41.529376\n",
       "9996  19996         79.652288\n",
       "9997  19997         55.509925\n",
       "9998  19998         65.523730\n",
       "9999  19999         66.392953\n",
       "\n",
       "[10000 rows x 2 columns]"
      ]
     },
     "execution_count": 29,
     "metadata": {},
     "output_type": "execute_result"
    }
   ],
   "source": [
    "sub = pd.concat([test['Id'], pd.Series(test_pred)], axis = 1)\n",
    "sub = sub.rename(columns = {0 : 'mean_exam_points'})\n",
    "sub"
   ]
  },
  {
   "cell_type": "code",
   "execution_count": 30,
   "metadata": {
    "execution": {
     "iopub.execute_input": "2021-03-24T18:42:42.936612Z",
     "iopub.status.busy": "2021-03-24T18:42:42.936020Z",
     "iopub.status.idle": "2021-03-24T18:42:42.967703Z",
     "shell.execute_reply": "2021-03-24T18:42:42.967180Z"
    },
    "papermill": {
     "duration": 0.063348,
     "end_time": "2021-03-24T18:42:42.967892",
     "exception": false,
     "start_time": "2021-03-24T18:42:42.904544",
     "status": "completed"
    },
    "tags": []
   },
   "outputs": [],
   "source": [
    "sub.to_csv('StGBoost_predict.csv', index=None)"
   ]
  },
  {
   "cell_type": "code",
   "execution_count": null,
   "metadata": {
    "papermill": {
     "duration": 0.028941,
     "end_time": "2021-03-24T18:42:43.027402",
     "exception": false,
     "start_time": "2021-03-24T18:42:42.998461",
     "status": "completed"
    },
    "tags": []
   },
   "outputs": [],
   "source": []
  }
 ],
 "metadata": {
  "kernelspec": {
   "display_name": "Python 3",
   "language": "python",
   "name": "python3"
  },
  "language_info": {
   "codemirror_mode": {
    "name": "ipython",
    "version": 3
   },
   "file_extension": ".py",
   "mimetype": "text/x-python",
   "name": "python",
   "nbconvert_exporter": "python",
   "pygments_lexer": "ipython3",
   "version": "3.7.1"
  },
  "papermill": {
   "default_parameters": {},
   "duration": 27.100215,
   "end_time": "2021-03-24T18:42:43.665564",
   "environment_variables": {},
   "exception": null,
   "input_path": "__notebook__.ipynb",
   "output_path": "__notebook__.ipynb",
   "parameters": {},
   "start_time": "2021-03-24T18:42:16.565349",
   "version": "2.2.2"
  }
 },
 "nbformat": 4,
 "nbformat_minor": 4
}
